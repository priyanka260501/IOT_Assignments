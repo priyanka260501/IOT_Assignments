{
 "cells": [
  {
   "cell_type": "markdown",
   "id": "29da95eb-ccfe-44e6-ac5e-75bea4f4fbfd",
   "metadata": {},
   "source": [
    "# Q1\n",
    "### Write a NumPy program to create an array with the values 1, 7, 13, 105 and determine the size of the memory occupied by the array.\n"
   ]
  },
  {
   "cell_type": "code",
   "execution_count": 1,
   "id": "dee9d961-4dcd-4ce9-9f96-18ce36ad7ebc",
   "metadata": {},
   "outputs": [],
   "source": [
    "import numpy as np"
   ]
  },
  {
   "cell_type": "code",
   "execution_count": 5,
   "id": "23a0b8c0-4c8e-459c-bd78-25b97cb47299",
   "metadata": {},
   "outputs": [
    {
     "name": "stdout",
     "output_type": "stream",
     "text": [
      "Size:4\n"
     ]
    }
   ],
   "source": [
    "def fun():\n",
    "    a=np.array([1,7,13,105])\n",
    "    print(f\"Size:{a.size}\")\n",
    "fun()"
   ]
  },
  {
   "cell_type": "markdown",
   "id": "a6a42e2d-cf19-42f5-8a8c-3282474b8d67",
   "metadata": {},
   "source": [
    "# Q2 \n",
    "### Write a NumPy program to create an element-wise comparison (greater,    greater_equal, less and less_equal) of two given arrays."
   ]
  },
  {
   "cell_type": "code",
   "execution_count": 11,
   "id": "2b2988d8-3599-4d1c-a608-209b1d018b6a",
   "metadata": {},
   "outputs": [
    {
     "name": "stdout",
     "output_type": "stream",
     "text": [
      "[ True  True  True]\n",
      "[False False False]\n",
      "[ True  True  True]\n",
      "[False False False]\n",
      "[ True  True  True]\n"
     ]
    }
   ],
   "source": [
    "  a1 = np.array([1, 2, 3])\n",
    "print(a1 < 30) # [ True True False False False]\n",
    "print(a1 > 30) # [False False False True True]\n",
    "print(a1 <= 30) # [ True True True False False]\n",
    "print(a1 >= 30) # [False False True True True]print(a1 == 30) # [False False True False False]\n",
    "print(a1 != 30) # [ True True False True True]"
   ]
  },
  {
   "cell_type": "markdown",
   "id": "c5709f7f-a74d-4b26-9346-38f7849862b2",
   "metadata": {},
   "source": [
    "# Q3\n",
    "### Write a NumPy program to create an array of 10 zeros, 10 ones, 10    fives, 10 tens, 10 twentys and 10 fiftys."
   ]
  },
  {
   "cell_type": "code",
   "execution_count": 14,
   "id": "6902bfa2-1da0-4102-bdf7-3e0e602122f5",
   "metadata": {},
   "outputs": [
    {
     "name": "stdout",
     "output_type": "stream",
     "text": [
      "[0 0 0 0 0 0 0 0 0 0]\n",
      "[1 1 1 1 1 1 1 1 1 1]\n",
      "[5. 5. 5. 5. 5. 5. 5. 5. 5. 5.]\n",
      "[10. 10. 10. 10. 10. 10. 10. 10. 10. 10.]\n",
      "[12. 12. 12. 12. 12. 12. 12. 12. 12. 12.]\n",
      "[15. 15. 15. 15. 15. 15. 15. 15. 15. 15.]\n"
     ]
    }
   ],
   "source": [
    "\n",
    "arr1=np.zeros(10,dtype=np.int8)\n",
    "print(arr1)\n",
    "arr=np.ones(10,dtype=np.int8)  #print 5 time 1\n",
    "print(arr)\n",
    "arr2=np.ones(10)*5\n",
    "print(arr2)\n",
    "arr3=np.ones(10)*10\n",
    "print(arr3)\n",
    "arr4=np.ones(10)*12\n",
    "print(arr4)\n",
    "arr5=np.ones(10)*15\n",
    "print(arr5)\n"
   ]
  },
  {
   "cell_type": "markdown",
   "id": "09059e49-17a6-477b-8c9f-975b6b0f4349",
   "metadata": {},
   "source": [
    "# Q4\n",
    "### Write a NumPy program to create an array of integers from 30 to 70."
   ]
  },
  {
   "cell_type": "code",
   "execution_count": 16,
   "id": "3cd57564-3a43-43cb-ab4a-802b5211848f",
   "metadata": {},
   "outputs": [
    {
     "name": "stdout",
     "output_type": "stream",
     "text": [
      "[30 31 32 33 34 35 36 37 38 39 40 41 42 43 44 45 46 47 48 49 50 51 52 53\n",
      " 54 55 56 57 58 59 60 61 62 63 64 65 66 67 68 69]\n"
     ]
    }
   ],
   "source": [
    "arr=np.arange(30,70)\n",
    "print(arr)\n"
   ]
  },
  {
   "cell_type": "markdown",
   "id": "dee63149-62ca-4c79-b5e5-90a0e8ddc816",
   "metadata": {},
   "source": [
    "# Q5"
   ]
  },
  {
   "cell_type": "code",
   "execution_count": 17,
   "id": "97743f51-a0b1-4597-944b-74daedf30206",
   "metadata": {},
   "outputs": [
    {
     "name": "stdout",
     "output_type": "stream",
     "text": [
      "[50 51 52 53 54 55 56 57 58 59 60 61 62 63 64 65 66 67 68 69 70 71 72 73\n",
      " 74 75 76 77 78 79 80 81 82 83 84 85 86 87 88 89 90 91 92 93 94]\n"
     ]
    }
   ],
   "source": [
    "arr=np.arange(50,95)\n",
    "print(arr)\n"
   ]
  },
  {
   "cell_type": "markdown",
   "id": "0e062a5a-42b2-4c55-a229-e8428b5038e7",
   "metadata": {},
   "source": [
    "# Q6\n",
    "### Write a NumPy program to create an array of all even integers from 20 to 80."
   ]
  },
  {
   "cell_type": "code",
   "execution_count": 19,
   "id": "ff08b3d2-4a06-4ceb-992c-90170b7df24e",
   "metadata": {},
   "outputs": [
    {
     "name": "stdout",
     "output_type": "stream",
     "text": [
      "[20 22 24 26 28 30 32 34 36 38 40 42 44 46 48 50 52 54 56 58 60 62 64 66\n",
      " 68 70 72 74 76 78]\n"
     ]
    }
   ],
   "source": [
    "arr1=np.arange(20,80,2)\n",
    "print(arr1)"
   ]
  },
  {
   "cell_type": "markdown",
   "id": "80a511f7-5a6a-472c-84df-a5fe557680c2",
   "metadata": {},
   "source": [
    "# Q7\n",
    "### Write a NumPy program to create an array of all odd integers from 20 to 80."
   ]
  },
  {
   "cell_type": "code",
   "execution_count": 23,
   "id": "c9cc171d-0e34-46c8-afe3-8f5742643d3c",
   "metadata": {},
   "outputs": [
    {
     "name": "stdout",
     "output_type": "stream",
     "text": [
      "[21 23 25 27 29 31 33 35 37 39 41 43 45 47 49 51 53 55 57 59 61 63 65 67\n",
      " 69 71 73 75 77 79]\n"
     ]
    }
   ],
   "source": [
    "arr1=np.arange(21,80,2)\n",
    "print(arr1)"
   ]
  },
  {
   "cell_type": "markdown",
   "id": "eec4107f-3342-4e1c-a22b-fc475d11e02c",
   "metadata": {},
   "source": [
    "# Q8\n",
    "### Write a NumPy program to generate an array of 15 random numbers from 10    to 40."
   ]
  },
  {
   "cell_type": "code",
   "execution_count": 25,
   "id": "530a0769-cdb9-42ad-99ef-7584da13197d",
   "metadata": {},
   "outputs": [
    {
     "name": "stdout",
     "output_type": "stream",
     "text": [
      "[18 22 27 37 31 19 28 32 25 30 28 35 30 18 23]\n"
     ]
    }
   ],
   "source": [
    "a2 = np.random.randint(10, 40, 15)\n",
    "print(a2)"
   ]
  },
  {
   "cell_type": "markdown",
   "id": "6cae86b2-9169-4806-93bd-bc9499c36635",
   "metadata": {},
   "source": [
    "# Q9\n",
    "### Write a NumPy program to generate an array of 10 random numbers from 30    to 50.\n",
    "\n"
   ]
  },
  {
   "cell_type": "code",
   "execution_count": 27,
   "id": "23b6a778-2080-4613-8dd2-fa1d7aaa40c5",
   "metadata": {},
   "outputs": [
    {
     "name": "stdout",
     "output_type": "stream",
     "text": [
      "[40 41 31 34 38 39 39 38 45 41]\n"
     ]
    }
   ],
   "source": [
    "a2 = np.random.randint(30, 50, 10)\n",
    "print(a2)"
   ]
  },
  {
   "cell_type": "markdown",
   "id": "17005fe2-e5d7-48d7-9860-a23d358406ba",
   "metadata": {},
   "source": [
    "# Q10\n",
    "### Write a NumPy program to generate an array of 20 random numbers from 50    to 90.\n"
   ]
  },
  {
   "cell_type": "code",
   "execution_count": 28,
   "id": "18ae7c6f-9dc4-47a9-8e76-d919dff41d9f",
   "metadata": {},
   "outputs": [
    {
     "name": "stdout",
     "output_type": "stream",
     "text": [
      "[56 69 62 80 81 52 89 63 68 79 61 87 70 51 75 82 52 78 51 69]\n"
     ]
    }
   ],
   "source": [
    "a2 = np.random.randint(50, 90, 20)\n",
    "print(a2)"
   ]
  },
  {
   "cell_type": "markdown",
   "id": "73c95fbc-569d-4751-8905-2b8ffdb13de1",
   "metadata": {},
   "source": [
    "# Q11\n",
    "### Create any two arrays & perform various mathematical operations.\n",
    "    i.e. Addition, Substraction, Multiplication, Divide.\n"
   ]
  },
  {
   "cell_type": "code",
   "execution_count": 30,
   "id": "1687429f-db6e-4cec-a29b-6a3cafb183e9",
   "metadata": {},
   "outputs": [
    {
     "name": "stdout",
     "output_type": "stream",
     "text": [
      "[ 21  42  81  73  94 125 126]\n",
      "[  1   2  15  -7  -6 -15   6]\n",
      "[1 1 1 0 0 0 1]\n",
      "[ 110  440 1584 1320 2200 3850 3960]\n"
     ]
    }
   ],
   "source": [
    "a1 = np.array([11, 22,48, 33,44,55,66])\n",
    "a2 = np.array([10, 20, 33,40,50,70,60])\n",
    "print(a1 + a2) \n",
    "print(a1 - a2) \n",
    "# print(a1 / a2)\n",
    "print(a1 // a2) \n",
    "print(a1 * a2) "
   ]
  },
  {
   "cell_type": "markdown",
   "id": "ef9038cc-b1c7-41dc-953e-46ec0eec2e23",
   "metadata": {},
   "source": [
    "# Q12\n",
    "### Write a NumPy program to create a 3x4 matrix filled with values from 10 to 21."
   ]
  },
  {
   "cell_type": "code",
   "execution_count": 31,
   "id": "53ab6ad1-6b7b-48ed-ac6f-696e042f12cc",
   "metadata": {},
   "outputs": [
    {
     "name": "stdout",
     "output_type": "stream",
     "text": [
      "[[10 11 12 13]\n",
      " [14 15 16 17]\n",
      " [18 19 20 21]]\n"
     ]
    }
   ],
   "source": [
    "m = np.arange(10, 22).reshape((3, 4))\n",
    "print(m)\n"
   ]
  },
  {
   "cell_type": "markdown",
   "id": "89b8d6fd-ec53-4f24-9ac6-081153834545",
   "metadata": {},
   "source": [
    "# Q13\n",
    "### Write a NumPy program to create a 3x3 identity matrix, i.e. the diagonal     elements are 1, the rest are 0."
   ]
  },
  {
   "cell_type": "code",
   "execution_count": 32,
   "id": "941c2019-425e-494e-8c24-ca99c6be823f",
   "metadata": {},
   "outputs": [
    {
     "name": "stdout",
     "output_type": "stream",
     "text": [
      "[[1. 0. 0.]\n",
      " [0. 1. 0.]\n",
      " [0. 0. 1.]]\n"
     ]
    }
   ],
   "source": [
    "x = np.eye(3)\n",
    "print(x)"
   ]
  },
  {
   "cell_type": "markdown",
   "id": "19b38e97-f5cc-41c8-9644-bb0172b05eae",
   "metadata": {},
   "source": [
    "# Q14\n",
    "### Write a NumPy program to find the number of rows and columns in a given     matrix. "
   ]
  },
  {
   "cell_type": "code",
   "execution_count": 37,
   "id": "bf576cf7-3b23-4345-acfa-27805420cefe",
   "metadata": {},
   "outputs": [
    {
     "name": "stdout",
     "output_type": "stream",
     "text": [
      "rows=2 columns=3\n"
     ]
    }
   ],
   "source": [
    "n=np.array([[1,2,4],[7,77 ,777]])\n",
    "matrix=n.shape\n",
    "rows,columns =matrix\n",
    "print(f\"rows={rows} columns={columns}\")"
   ]
  },
  {
   "cell_type": "markdown",
   "id": "e904e435-48bd-4ef8-9066-6fc6d3cc4db1",
   "metadata": {},
   "source": [
    "# Q15\n",
    "### Write a NumPy program to create a 5x5 zero matrix with elements on the     main diagonal equal to 1, 2, 3, 4, 5."
   ]
  },
  {
   "cell_type": "code",
   "execution_count": 40,
   "id": "221fd97e-3c87-4054-bee1-036628651500",
   "metadata": {},
   "outputs": [
    {
     "name": "stdout",
     "output_type": "stream",
     "text": [
      "[[1 0 0 0 0]\n",
      " [0 2 0 0 0]\n",
      " [0 0 3 0 0]\n",
      " [0 0 0 4 0]\n",
      " [0 0 0 0 5]]\n"
     ]
    }
   ],
   "source": [
    "x = np.diag([1,2,3,4,5])\n",
    "print(x)"
   ]
  },
  {
   "cell_type": "markdown",
   "id": "cc065b4d-ae16-4cd9-8cb3-93157bfb20b0",
   "metadata": {},
   "source": [
    "# Q16\n",
    "### Write a NumPy program to create a 3x3x3 array filled with arbitrary values."
   ]
  },
  {
   "cell_type": "code",
   "execution_count": 42,
   "id": "c59c9312-20f0-4ba7-a474-b4a1253c3484",
   "metadata": {},
   "outputs": [
    {
     "name": "stdout",
     "output_type": "stream",
     "text": [
      "[[[0.15232766 0.17430633 0.7630974 ]\n",
      "  [0.72728123 0.91974463 0.87107598]\n",
      "  [0.74695727 0.31528024 0.38801436]]\n",
      "\n",
      " [[0.74338932 0.92039    0.72821927]\n",
      "  [0.81355748 0.39150741 0.18147673]\n",
      "  [0.99390882 0.06002873 0.9640774 ]]\n",
      "\n",
      " [[0.33178339 0.34859469 0.11633774]\n",
      "  [0.05402416 0.92551873 0.01806057]\n",
      "  [0.51372118 0.97191289 0.13005992]]]\n"
     ]
    }
   ],
   "source": [
    "a= np.random.random((3,3,3))\n",
    "print(a)"
   ]
  },
  {
   "cell_type": "markdown",
   "id": "c58145ef-ad94-4056-afb9-978919c7eb34",
   "metadata": {},
   "source": [
    "# Q17 \n",
    "### Write a NumPy program to create a 2x3x4 array filled with arbitrary values."
   ]
  },
  {
   "cell_type": "code",
   "execution_count": 43,
   "id": "3dda614c-6946-429b-88bb-0c442c78acb6",
   "metadata": {},
   "outputs": [
    {
     "name": "stdout",
     "output_type": "stream",
     "text": [
      "[[[0.30187542 0.03642039 0.89358182 0.77239472]\n",
      "  [0.18218905 0.80166643 0.45927298 0.68316565]\n",
      "  [0.68964505 0.87560467 0.47481338 0.02658442]]\n",
      "\n",
      " [[0.77680838 0.93935556 0.26913646 0.35041194]\n",
      "  [0.21335834 0.85882958 0.14184959 0.15691524]\n",
      "  [0.52488806 0.62660548 0.5349441  0.20893179]]]\n"
     ]
    }
   ],
   "source": [
    "a=np.random.random((2,3,4))\n",
    "print(a)"
   ]
  },
  {
   "cell_type": "markdown",
   "id": "0ad0bfc3-2a01-49d6-a5fe-d424d54c8776",
   "metadata": {},
   "source": [
    "# Q18\n",
    "### Write a NumPy program to convert a list of numeric values into a one-    dimensional NumPy array."
   ]
  },
  {
   "cell_type": "code",
   "execution_count": 45,
   "id": "4432c542-594a-4376-982c-f8e3e317d730",
   "metadata": {},
   "outputs": [
    {
     "name": "stdout",
     "output_type": "stream",
     "text": [
      "NUmerical value: [11.2, 552, 8, 44.5, 45]\n",
      "One- dimensional NumPy array:[ 11.2 552.    8.   44.5  45. ]\n"
     ]
    }
   ],
   "source": [
    "l=[11.2,552,8,44.5,45]\n",
    "print(\"NUmerical value:\",l)\n",
    "a=np.array(l)\n",
    "print(f\"One- dimensional NumPy array:{a}\")"
   ]
  },
  {
   "cell_type": "markdown",
   "id": "42fe2155-dcb7-495a-b578-96b51f23ef5b",
   "metadata": {},
   "source": [
    "# Q19\n",
    "### Write a NumPy program to create a 3x3 matrix with values ranging from 2 to 10."
   ]
  },
  {
   "cell_type": "code",
   "execution_count": 46,
   "id": "b1d96413-a7df-4563-9a41-84a95f31ee71",
   "metadata": {},
   "outputs": [
    {
     "name": "stdout",
     "output_type": "stream",
     "text": [
      "[[ 2  3  4]\n",
      " [ 5  6  7]\n",
      " [ 8  9 10]]\n"
     ]
    }
   ],
   "source": [
    "x = np.arange(2, 11).reshape(3, 3)\n",
    "print(x)\n"
   ]
  },
  {
   "cell_type": "markdown",
   "id": "92af6fd1-7951-4464-96ff-00b10fcc2414",
   "metadata": {},
   "source": [
    "# Q20\n",
    "### Write a NumPy program to create an array with values ranging from 12 to 38."
   ]
  },
  {
   "cell_type": "code",
   "execution_count": 50,
   "id": "5fa3f09d-05cc-4aa7-924e-d89753e8cbd6",
   "metadata": {},
   "outputs": [
    {
     "name": "stdout",
     "output_type": "stream",
     "text": [
      "[12 13 14 15 16 17 18 19 20 21 22 23 24 25 26 27 28 29 30 31 32 33 34 35\n",
      " 36 37]\n"
     ]
    }
   ],
   "source": [
    "xx = np.arange(12, 38)\n",
    "print(xx)\n"
   ]
  },
  {
   "cell_type": "markdown",
   "id": "6aaafe58-1657-4cf6-a18f-cb6a4804d6ef",
   "metadata": {},
   "source": [
    "# Q21\n",
    "### Write a NumPy program to reverse an array (the first element becomes the last)."
   ]
  },
  {
   "cell_type": "code",
   "execution_count": 51,
   "id": "fc63ed08-7a81-4072-93e2-4db47da4fe8b",
   "metadata": {},
   "outputs": [
    {
     "name": "stdout",
     "output_type": "stream",
     "text": [
      "[11 22 33 44 55]\n",
      "[55 44 33 22 11]\n"
     ]
    }
   ],
   "source": [
    "a=np.array([11,22,33,44,55])\n",
    "print(a)\n",
    "a=a[::-1]\n",
    "print(a)"
   ]
  },
  {
   "cell_type": "markdown",
   "id": "5d5e6e12-bcc2-4779-94cc-8bd3523e3ca1",
   "metadata": {},
   "source": [
    "# Q22\n",
    "### Write a NumPy program to convert an data type into to a floating type."
   ]
  },
  {
   "cell_type": "code",
   "execution_count": 62,
   "id": "7f5e977f-7c99-4c08-9ce7-1ec98c004923",
   "metadata": {},
   "outputs": [
    {
     "name": "stdout",
     "output_type": "stream",
     "text": [
      "[11 22 33 44 55]\n",
      "[11. 22. 33. 44. 55.]\n"
     ]
    }
   ],
   "source": [
    "a=np.array([11,22,33,44,55])\n",
    "print(a)\n",
    "a=a.astype(float)\n",
    "print(b)"
   ]
  },
  {
   "cell_type": "markdown",
   "id": "4f732627-3f73-4b20-bf31-e77753002992",
   "metadata": {},
   "source": [
    "# Q23\n",
    "### Write a NumPy program to convert a list array."
   ]
  },
  {
   "cell_type": "code",
   "execution_count": null,
   "id": "9086175b-4f7e-47ec-b0c2-446810b1b546",
   "metadata": {},
   "outputs": [],
   "source": []
  },
  {
   "cell_type": "code",
   "execution_count": null,
   "id": "e0a69790-3986-411e-93c1-09d987979a32",
   "metadata": {},
   "outputs": [],
   "source": []
  }
 ],
 "metadata": {
  "kernelspec": {
   "display_name": "Python 3 (ipykernel)",
   "language": "python",
   "name": "python3"
  },
  "language_info": {
   "codemirror_mode": {
    "name": "ipython",
    "version": 3
   },
   "file_extension": ".py",
   "mimetype": "text/x-python",
   "name": "python",
   "nbconvert_exporter": "python",
   "pygments_lexer": "ipython3",
   "version": "3.10.12"
  }
 },
 "nbformat": 4,
 "nbformat_minor": 5
}
